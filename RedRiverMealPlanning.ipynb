{
  "nbformat": 4,
  "nbformat_minor": 0,
  "metadata": {
    "colab": {
      "provenance": [],
      "include_colab_link": true
    },
    "kernelspec": {
      "name": "python3",
      "display_name": "Python 3"
    },
    "language_info": {
      "name": "python"
    }
  },
  "cells": [
    {
      "cell_type": "markdown",
      "metadata": {
        "id": "view-in-github",
        "colab_type": "text"
      },
      "source": [
        "<a href=\"https://colab.research.google.com/github/weaslepalace/Meal-plan/blob/main/RedRiverMealPlanning.ipynb\" target=\"_parent\"><img src=\"https://colab.research.google.com/assets/colab-badge.svg\" alt=\"Open In Colab\"/></a>"
      ]
    },
    {
      "cell_type": "markdown",
      "source": [
        "# Red River Meal Planning"
      ],
      "metadata": {
        "id": "kS22y8s5vYFQ"
      }
    },
    {
      "cell_type": "markdown",
      "source": [
        "I made a Colab to do our meal planning. If you're not familiar with Colab, it may seem a bit intimidating. Maybe for good reason? I don't know. *I* think it's pretty easy. Here's how it works. You've got these cells that can either be text or code. The text can be formatted with markdown to make it look nice. The code is python, and each cell can run a little or a lot of python. I think what we have here is a medium amount of python. I don't expect anybody to look at or understand the guts of the code (but you can if you want to).\n"
      ],
      "metadata": {
        "id": "vLFmYqgx-pGt"
      }
    },
    {
      "cell_type": "markdown",
      "source": [
        "## So what the heck is this thing and how do we use it?"
      ],
      "metadata": {
        "id": "i1b5cC2yGKas"
      }
    },
    {
      "cell_type": "markdown",
      "source": [
        "### Wait! If you're on a phone, put it away and go get your laptop."
      ],
      "metadata": {
        "id": "XoewMqx3P0-N"
      }
    },
    {
      "cell_type": "markdown",
      "source": [
        "This is a little tool for turning a meal plan into a shopping list. We're all going to add meals with the ingredients that they're made from into a big list. This code will take all that and dump it all into a file in google drive, so that whoever ends up doing the grocery shopping (Mom) can simply look at the list and not have to worry about spreadsheets and such. It can handle duplicate ingredients, so like if somebody whats to make tacos, and somebody else wants to make cabbage stew and both those meals use cabbage, cabbage will only appear once on the shopping list (unless cabbage is spelled differently between the different instances (incidently, I don't think Colab has a spellchecker)).\n",
        "\n",
        "So what we'll need to do is come up with some meals and their associated ingredients. Let's use PB&J as an example:\n",
        "\n",
        "To make a PB&J, we need 2 slices of bread, a blob of peanut butter, and a blob of fancy cherry jam from France. So to create that meal type this:\n",
        "\n",
        "```python\n",
        "#First, create a meal object, call it pb_and_j.\n",
        "pb_and_j = Meal(\n",
        "  \"PB&J\", #This is the name of the meal. Make sure it's enclosed in quotations\n",
        "  1, #This is how many people will be served by this meal\n",
        "  ( #The list of ingredients have to be encloded in parentheses\n",
        "    Ingredient(\"Bread\", Container.Slice, 2), #This line ends in a comma\n",
        "    Ingredient(\"Peanut Butter\", Container.Blob, 1), #This line also ends in a comma\n",
        "    Ingredient(\"Fancy Cherry Jam From France\", Container.Blob, 1) #This line doesn't end in a comma\n",
        "  ) #This closes up the ingredient list\n",
        ") #This closes up the Meal\n",
        "\n",
        "#Now that our meal is punched in, let's add it to the meal plan\n",
        "meal_plan.add_meal(pb_and_j)\n",
        "\n",
        "#... and that's it.\n",
        "```\n",
        "To do it yourself, scroll all the way down to the bottom and create a new cell. To execute a cell, hit CTRL+Enter."
      ],
      "metadata": {
        "id": "MZ814kr4GTGa"
      }
    },
    {
      "cell_type": "markdown",
      "source": [
        "### Things to look out for"
      ],
      "metadata": {
        "id": "QGCTnpaYQTT0"
      }
    },
    {
      "cell_type": "markdown",
      "source": [
        "#### Align columns"
      ],
      "metadata": {
        "id": "oJWSZf_WQfW1"
      }
    },
    {
      "cell_type": "markdown",
      "source": [
        "Do like this:\n",
        "\n",
        "``` python\n",
        "meal = Meal(\"Meal Name\", 1,\n",
        "  (\n",
        "    Ingredient(...),\n",
        "    Ingredient(...),\n",
        "    Ingredient(...)\n",
        "  )\n",
        ")\n",
        "```"
      ],
      "metadata": {
        "id": "G8Nck7kPQuy-"
      }
    },
    {
      "cell_type": "markdown",
      "source": [
        "Not this:\n",
        "\n",
        "``` python\n",
        "meal = Meal(\"Meal Name\", 1,\n",
        "  (\n",
        "    Ingredient(...),\n",
        "  Ingredient(...),\n",
        "      Ingredient(...)\n",
        "  )\n",
        ")\n",
        "```"
      ],
      "metadata": {
        "id": "Bv1teOsdSEq2"
      }
    },
    {
      "cell_type": "markdown",
      "source": [
        "### Python errors are really hard to read"
      ],
      "metadata": {
        "id": "ztlLljKXSe8i"
      }
    },
    {
      "cell_type": "markdown",
      "source": [
        "Not my fault. That's just the way it is. Scroll to the bottom of the error message for the most important information."
      ],
      "metadata": {
        "id": "uE1EaAWUS0nE"
      }
    },
    {
      "cell_type": "markdown",
      "source": [
        "### It may be easier to copy existing meals rather than start from scratch"
      ],
      "metadata": {
        "id": "CNnhpWfZTJ_3"
      }
    },
    {
      "cell_type": "markdown",
      "source": [
        "### If your unsure about"
      ],
      "metadata": {
        "id": "VFvH6lyGTcmh"
      }
    },
    {
      "cell_type": "markdown",
      "source": [
        "## The Code"
      ],
      "metadata": {
        "id": "m_QxaanTMVi7"
      }
    },
    {
      "cell_type": "markdown",
      "source": [
        "This is where it all happens. Scroll down a bit if this isn't interesting to you."
      ],
      "metadata": {
        "id": "aLGlSwy_MdiG"
      }
    },
    {
      "cell_type": "code",
      "source": [
        "import typing\n",
        "from itertools import groupby\n",
        "\n",
        "class Container:\n",
        "  \"\"\"\n",
        "  Let's start out with a big list of things that food are packaged in\n",
        "  Just pretent this ins't here. Unless there's something you need that's missing.\n",
        "  Then you can add it to the list\n",
        "  \"\"\"\n",
        "  Can = \"Can\"\n",
        "  Bottle = \"Bottle\"\n",
        "  Pot = \"Pot\"\n",
        "  Jar = \"Jar\"\n",
        "  Bag = \"Bag\"\n",
        "  Sachet = \"Sachet\"\n",
        "  Package = \"Package\"\n",
        "  Tube = \"Tube\"\n",
        "  Tub = \"Tub\"\n",
        "  Thingy = \"Thingy\"\n",
        "  Tablespoon = \"Tablespoon\"\n",
        "  Teaspoon = \"Teaspoon\"\n",
        "  Cup = \"Cup\"\n",
        "  Milliliter = \"Milliliter\"\n",
        "  Liter = \"Liter\"\n",
        "  Gram = \"Gram\"\n",
        "  Kilogram = \"Kilogram\"\n",
        "  Dozen = \"Dozen\"\n",
        "  Flat = \"Flat\"\n",
        "  Pintch = \"Pintch\"\n",
        "  Lump = \"Lump\"\n",
        "  Scoop = \"Scoop\"\n",
        "  Shovel = \"Shovel\"\n",
        "  Chunk = \"Chunk\"\n",
        "  Leaf = \"Leaf\"\n",
        "  Sheet = \"Sheet\"\n",
        "  Piece = \"Piece\"\n",
        "  Stick = \"Stick\"\n",
        "  Drop = \"Drop\"\n",
        "  Slice = \"Slice\"\n",
        "  Blob = \"Blob\"\n",
        "\n",
        "class Ingredient (typing.NamedTuple):\n",
        "  \"\"\"\n",
        "  Class describing an ingredient in a recipe\n",
        "  Ingredients are added to Meal during construction\n",
        "\n",
        "  Params:\n",
        "  - name: Name of the ingredient - pay attention to spelling\n",
        "  - container: What does the ingredient come in? Use items form the Container class\n",
        "               To help minimize duplicated due to spelling errors\n",
        "  - quantity: How much of the containers full of the stuff do we put in this recipe?\n",
        "  \"\"\"\n",
        "  name: str\n",
        "  container: str\n",
        "  quantity: float\n",
        "\n",
        "  def __str__ (self):\n",
        "      if self.container == \"Piece\":\n",
        "        container = \"\"\n",
        "        name = self.name + \"(s)\" if self.quantity > 1 else self.name\n",
        "      else:\n",
        "        container = \" \" + self.container + \" of\"\n",
        "        name = self.name\n",
        "      return f\"  {self.quantity} {container} {name}\"\n",
        "\n",
        "class Meal:\n",
        "  \"\"\"\n",
        "  This class is for making meals\n",
        "  Give it a name and specify the ingredients\n",
        "\n",
        "  Params:\n",
        "  - name: Name of the meal\n",
        "  - serves: How many people will we be serving given the quantity of the ingredients?\n",
        "  - ingredients: A tuple of ingredients\n",
        "  \"\"\"\n",
        "  name: str\n",
        "  serves: int\n",
        "  ingredients: tuple\n",
        "\n",
        "  def print(self):\n",
        "    \"\"\"\n",
        "    Print out meal info in an human-readable format\n",
        "    \"\"\"\n",
        "    print(f\"{self.name} serves {self.serves} human(s)\")\n",
        "    print(\"Ingredients:\")\n",
        "    for ingredient in self.ingredients:\n",
        "      print(ingredient)\n",
        "\n",
        "  def __init__ (self, name, serves, ingredients):\n",
        "    \"\"\"\n",
        "    Meal constructor\n",
        "\n",
        "    Params:\n",
        "    See Meal class docstring\n",
        "    \"\"\"\n",
        "    self.name = name\n",
        "    self.serves = serves\n",
        "    self.ingredients = ingredients\n",
        "\n",
        "    self.print()\n",
        "\n",
        "\n",
        "class Meal_Plan:\n",
        "  \"\"\"\n",
        "  Where meals become plans\n",
        "\n",
        "  Params:\n",
        "  - meals: Array containing all the meals in the plan\n",
        "  \"\"\"\n",
        "  def __init__ (self):\n",
        "    \"\"\"\n",
        "    Meal_Plan Constructor\n",
        "    \"\"\"\n",
        "    self.meals = []\n",
        "\n",
        "  def add_meal(self, meal):\n",
        "    \"\"\"\n",
        "    Add a Meal to meals\n",
        "    This is a one-way street because I'm too lazy to write a remove_meal method\n",
        "    \"\"\"\n",
        "    try:\n",
        "      getattr(meal, \"name\")\n",
        "      getattr(meal, \"serves\")\n",
        "      getattr(meal, \"ingredients\")\n",
        "      getattr(meal, \"print\")\n",
        "      self.meals.append(meal)\n",
        "    except AttributeError:\n",
        "      print(\"meal isn't a Meal. What's up with that? Have you read the instructions?\")\n",
        "      print(\"  Adding this to the MealPlan will certainly break something.\")\n",
        "      print(\"  Please be more careful in the future!\")\n",
        "\n",
        "  def meal_list(self):\n",
        "    \"\"\"\n",
        "    Print out a numbered list of all the meals\n",
        "    \"\"\"\n",
        "    for count, meal in enumerate(self.meals):\n",
        "      print(f\"{count + 1}. {meal.name}\")\n",
        "\n",
        "  def shopping_list(self):\n",
        "    \"\"\"\n",
        "    Generate a shopping list from the meal plan\n",
        "    \"\"\"\n",
        "    #Flatten the ingredients from self.meals into a single sorted list\n",
        "    items = [\n",
        "        ingredient for meal in self.meals for ingredient in meal.ingredients\n",
        "        ]\n",
        "    items.sort(key=lambda x: x.name, reverse=False)\n",
        "\n",
        "    #Group ingredients with the same name and container type into sublists\n",
        "    items = [\n",
        "        list(groupd) for _,i in groupby(items, key=lambda x: x.name)\n",
        "        for _,groupd in groupby(i, key=lambda x: x.container)\n",
        "        ]\n",
        "\n",
        "    #Add the quantities of the grouped sublists and flatten back into a list\n",
        "    items = [\n",
        "        str(Ingredient(item[0].name, item[0].container, sum(i.quantity for i in item)))\n",
        "        for item in items\n",
        "    ]\n",
        "\n",
        "    with open(\"RedRiverShoppingList\", \"w\") as shopping_list_file:\n",
        "      for i in items:\n",
        "        shopping_list_file.write(i)\n",
        "        print(i)\n",
        "\n",
        "meal_plan = Meal_Plan()"
      ],
      "metadata": {
        "id": "yMFfyG2-vbjt"
      },
      "execution_count": null,
      "outputs": []
    },
    {
      "cell_type": "markdown",
      "source": [
        "## The Meal Planning"
      ],
      "metadata": {
        "id": "iVpJvcsRMo73"
      }
    },
    {
      "cell_type": "markdown",
      "source": [
        "This is why where here. I've started it out with some sushi and PB&J just to get things started."
      ],
      "metadata": {
        "id": "nHAIm9wkMubT"
      }
    },
    {
      "cell_type": "code",
      "source": [
        "veggie_sushi = Meal(\"Veggie Sushi\", 4, (\n",
        "  Ingredient(\"Cucumber\", Container.Piece, 2),\n",
        "  Ingredient(\"Acacodo\", Container.Piece, 1),\n",
        "  Ingredient(\"Mango\", Container.Piece, 1),\n",
        "  Ingredient(\"Carrot\", Container.Piece, 1),\n",
        "  Ingredient(\"Nori\", Container.Package, 1),\n",
        "  Ingredient(\"Short Grain Brown Rice\", Container.Cup, 2),\n",
        "  Ingredient(\"Brown Sugar\", Container.Tablespoon, 3),\n",
        "  Ingredient(\"Rice Wine Vinegar\", Container.Tablespoon, 1),\n",
        "  Ingredient(\"Soy Sauce\", Container.Tablespoon, 8),\n",
        "  Ingredient(\"Wasabi Paste\", Container.Tablespoon, 4),\n",
        "))\n",
        "meal_plan.add_meal(veggie_sushi)"
      ],
      "metadata": {
        "colab": {
          "base_uri": "https://localhost:8080/"
        },
        "id": "2o9qlxkvx9Y2",
        "outputId": "22c6de28-7903-472a-f94a-2406b5bd52ab"
      },
      "execution_count": null,
      "outputs": [
        {
          "output_type": "stream",
          "name": "stdout",
          "text": [
            "Veggie Sushi serves 4 human(s)\n",
            "Ingredients:\n",
            "  2  Cucumber(s)\n",
            "  1  Acacodo\n",
            "  1  Mango\n",
            "  1  Carrot\n",
            "  1  Package of Nori\n",
            "  2  Cup of Short Grain Brown Rice\n",
            "  3  Tablespoon of Brown Sugar\n",
            "  1  Tablespoon of Rice Wine Vinegar\n",
            "  8  Tablespoon of Soy Sauce\n",
            "  4  Tablespoon of Wasabi Paste\n"
          ]
        }
      ]
    },
    {
      "cell_type": "code",
      "source": [
        "pb_and_j_sandwich = Meal(\"PB&J\", 1, (\n",
        "    Ingredient(\"Bread\", Container.Slice, 2),\n",
        "    Ingredient(\"Fresh Squeezed Penut Butter\", Container.Tablespoon, 1),\n",
        "    Ingredient(\"Fancy Cherry Jam From France\", Container.Tablespoon, 1)\n",
        "))\n",
        "meal_plan.add_meal(pb_and_j_sandwich)"
      ],
      "metadata": {
        "colab": {
          "base_uri": "https://localhost:8080/"
        },
        "id": "plhOlDeaGgkj",
        "outputId": "143ac5f4-b095-4c1d-fbdd-577d8be6377c"
      },
      "execution_count": null,
      "outputs": [
        {
          "output_type": "stream",
          "name": "stdout",
          "text": [
            "PB&J serves 1 human(s)\n",
            "Ingredients:\n",
            "  2  Slice of Bread\n",
            "  1  Tablespoon of Fresh Squeezed Penut Butter\n",
            "  1  Tablespoon of Fancy Cherry Jam From France\n"
          ]
        }
      ]
    },
    {
      "cell_type": "code",
      "source": [
        "burritos = Meal(\"burritos\", 1, (\n",
        "  Ingredient(\"tortilla\", Container.Piece, 1),\n",
        "  Ingredient(\"can of pinto beans\", Container.Can, 0.5),\n",
        "  Ingredient(\"cheddar cheese\", Container.Thingy, 0.25),\n",
        "  Ingredient(\"hatch chilies\", Container.Thingy, 0.25)\n",
        "))\n",
        "meal_plan.add_meal(burritos)"
      ],
      "metadata": {
        "colab": {
          "base_uri": "https://localhost:8080/"
        },
        "id": "DUNgbvWpJodP",
        "outputId": "72d5dc65-d900-4e4d-e677-95f84d67be2d"
      },
      "execution_count": null,
      "outputs": [
        {
          "output_type": "stream",
          "name": "stdout",
          "text": [
            "burritos serves 1 human(s)\n",
            "Ingredients:\n",
            "  1  tortilla\n",
            "  0.5  Can of can of pinto beans\n",
            "  0.25  Thingy of cheddar cheese\n",
            "  0.25  Thingy of hatch chilies\n"
          ]
        }
      ]
    },
    {
      "cell_type": "markdown",
      "source": [
        "## The Shopping List Output"
      ],
      "metadata": {
        "id": "0TJcWPG4Nofk"
      }
    },
    {
      "cell_type": "markdown",
      "source": [
        "Don't add anything below this point."
      ],
      "metadata": {
        "id": "be9M3J-ANuhW"
      }
    },
    {
      "cell_type": "code",
      "source": [
        "meal_plan.meal_list()"
      ],
      "metadata": {
        "colab": {
          "base_uri": "https://localhost:8080/"
        },
        "id": "avhiyGO5DIkg",
        "outputId": "453977ca-b2ea-447d-b747-f7cccc9f12d4"
      },
      "execution_count": null,
      "outputs": [
        {
          "output_type": "stream",
          "name": "stdout",
          "text": [
            "1. Veggie Sushi\n",
            "2. PB&J\n",
            "3. burritos\n"
          ]
        }
      ]
    },
    {
      "cell_type": "code",
      "source": [
        "meal_plan.shopping_list()"
      ],
      "metadata": {
        "id": "7S42fmmwDKh1",
        "colab": {
          "base_uri": "https://localhost:8080/"
        },
        "outputId": "6dc1e717-7007-4d38-c7bb-ee8bcefd6ad5"
      },
      "execution_count": null,
      "outputs": [
        {
          "output_type": "stream",
          "name": "stdout",
          "text": [
            "  1  Acacodo\n",
            "  2  Slice of Bread\n",
            "  3  Tablespoon of Brown Sugar\n",
            "  1  Carrot\n",
            "  2  Cucumber(s)\n",
            "  1  Tablespoon of Fancy Cherry Jam From France\n",
            "  1  Tablespoon of Fresh Squeezed Penut Butter\n",
            "  1  Mango\n",
            "  1  Package of Nori\n",
            "  1  Tablespoon of Rice Wine Vinegar\n",
            "  2  Cup of Short Grain Brown Rice\n",
            "  8  Tablespoon of Soy Sauce\n",
            "  4  Tablespoon of Wasabi Paste\n",
            "  0.5  Can of can of pinto beans\n",
            "  0.25  Thingy of cheddar cheese\n",
            "  0.25  Thingy of hatch chilies\n",
            "  1  tortilla\n"
          ]
        }
      ]
    },
    {
      "cell_type": "code",
      "source": [],
      "metadata": {
        "id": "Q388KO53Dbic"
      },
      "execution_count": null,
      "outputs": []
    }
  ]
}